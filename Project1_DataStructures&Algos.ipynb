{
 "cells": [
  {
   "cell_type": "code",
   "execution_count": 2,
   "metadata": {},
   "outputs": [],
   "source": [
    "import csv\n",
    "with open('texts.csv', 'r') as f:\n",
    "    reader = csv.reader(f)\n",
    "    texts = list(reader)\n",
    "\n",
    "with open('calls.csv', 'r') as f:\n",
    "    reader = csv.reader(f)\n",
    "    calls = list(reader)"
   ]
  },
  {
   "cell_type": "markdown",
   "metadata": {},
   "source": [
    "### Task 0: First record of texts and last record of calls"
   ]
  },
  {
   "cell_type": "code",
   "execution_count": null,
   "metadata": {},
   "outputs": [],
   "source": [
    "print(\"First record of texts, \",texts[0][0],\" texts \",texts[0][1],\" at time \",texts[0][2])\n",
    "\n",
    "print(\"Last record of calls, %s calls %s at time %s, lasting %s seconds\" %(calls[5212][0], calls[5212][1], calls[5212][2], calls[5212][3]))"
   ]
  },
  {
   "cell_type": "markdown",
   "metadata": {},
   "source": [
    "### Task 1: Number of distinct phone numbers in the records"
   ]
  },
  {
   "cell_type": "code",
   "execution_count": null,
   "metadata": {},
   "outputs": [],
   "source": [
    "def getUniquePhoneNumbersFromRecords(records):\n",
    "    phoneNoList = []\n",
    "    \n",
    "    for record in records:\n",
    "        if(record[0] not in phoneNoList):\n",
    "            phoneNoList.append(record[0])\n",
    "        if(record[1] not in phoneNoList):\n",
    "            phoneNoList.append(record[1])\n",
    "    \n",
    "    return phoneNoList\n",
    "\n",
    "unique_number_record = getUniquePhoneNumbersFromRecords(texts + calls)\n",
    "\n",
    "#Number of distinct telephone numbers in records\n",
    "count = len(unique_number_record)\n",
    "\n",
    "print(\"There are %d different telephone numbers in the records.\" %count)"
   ]
  },
  {
   "cell_type": "markdown",
   "metadata": {},
   "source": [
    "### Task2: Longest time on phone"
   ]
  },
  {
   "cell_type": "code",
   "execution_count": null,
   "metadata": {},
   "outputs": [],
   "source": [
    "def getUniquePhoneNumbersFromRecords(records):\n",
    "    phoneNoList = []\n",
    "    \n",
    "    for record in records:\n",
    "        if(record[0] not in phoneNoList):\n",
    "            phoneNoList.append(record[0])\n",
    "        if(record[1] not in phoneNoList):\n",
    "            phoneNoList.append(record[1])\n",
    "    \n",
    "    return phoneNoList\n",
    "\n",
    "phone_number_record = getUniquePhoneNumbersFromRecords(calls) \n",
    "\n",
    "timeSpentDict = {}\n",
    "for phone_no in phone_number_record: \n",
    "    timeSpent = 0\n",
    "    for call in calls: \n",
    "        if(phone_no == call[0]):\n",
    "            timeSpent += int(call[3])\n",
    "        if(phone_no == call[1]):\n",
    "            timeSpent += int(call[3])\n",
    "    timeSpentDict[phone_no] = timeSpent\n",
    "\n",
    "max_timeSpent_phoneNo = max(timeSpentDict, key = timeSpentDict.get)\n",
    "\n",
    "print(\"%s spent the longest time, %d seconds, on the phone during September 2016.\" %(max_timeSpent_phoneNo,timeSpentDict[max_timeSpent_phoneNo]))"
   ]
  },
  {
   "cell_type": "markdown",
   "metadata": {},
   "source": [
    "### Task 3: Area codes & mobile numbers of Bangalore callers "
   ]
  },
  {
   "cell_type": "code",
   "execution_count": 4,
   "metadata": {},
   "outputs": [
    {
     "name": "stdout",
     "output_type": "stream",
     "text": [
      "The numbers called by people in Bangalore have codes:\n",
      "(022)\n",
      "(040)\n",
      "(04344)\n",
      "(044)\n",
      "(04546)\n",
      "(0471)\n",
      "(080)\n",
      "(0821)\n",
      "7406\n",
      "7795\n",
      "7813\n",
      "7829\n",
      "8151\n",
      "8152\n",
      "8301\n",
      "8431\n",
      "8714\n",
      "9008\n",
      "9019\n",
      "9035\n",
      "9036\n",
      "9241\n",
      "9242\n",
      "9341\n",
      "9342\n",
      "9343\n",
      "9400\n",
      "9448\n",
      "9449\n",
      "9526\n",
      "9656\n",
      "9738\n",
      "9740\n",
      "9741\n",
      "9742\n",
      "9844\n",
      "9845\n",
      "9900\n",
      "9961\n",
      "\n",
      "\n",
      "24.810000 percent of calls from fixed lines in Bangalore are calls to other fixed lines in Bangalore.\n"
     ]
    }
   ],
   "source": [
    "def getUniquePhoneNumbersFromRecords(records):\n",
    "    phoneNoList = []\n",
    "    \n",
    "    for record in records:\n",
    "        if(record[0] not in phoneNoList):\n",
    "            phoneNoList.append(record[0])\n",
    "        if(record[1] not in phoneNoList):\n",
    "            phoneNoList.append(record[1])\n",
    "    \n",
    "    return phoneNoList\n",
    "\n",
    "phone_number_record = getUniquePhoneNumbersFromRecords(calls)    \n",
    "\n",
    "#Part A\n",
    "blr_fixed_number_list = [number for number in phone_number_record if number.startswith('(080)')]\n",
    "\n",
    "AreaCodeList = []\n",
    "MobileCodeList = []\n",
    "for number in blr_fixed_number_list:\n",
    "    for call in calls:\n",
    "        if(number == call[0]):\n",
    "            if('(' in call[1] and call[1][call[1].find(\"(\"):call[1].find(\")\")+1] not in AreaCodeList):\n",
    "                AreaCodeList.append(call[1][call[1].find(\"(\"):call[1].find(\")\")+1])\n",
    "            elif(' ' in call[1] and call[1][0:4] not in MobileCodeList):\n",
    "                MobileCodeList.append(call[1][0:4])\n",
    "\n",
    "CodeList = AreaCodeList + MobileCodeList\n",
    "\n",
    "CodeList.sort()\n",
    "\n",
    "print(\"The numbers called by people in Bangalore have codes:\")\n",
    "for code in CodeList:\n",
    "    print(code)\n",
    "\n",
    "print('\\n')\n",
    "#Part B\n",
    "fixedLineCallerCounter = 0\n",
    "fixedLineReceiverCounter = 0\n",
    "for number in blr_fixed_number_list:\n",
    "    for call in calls:\n",
    "        if(number == call[0]):\n",
    "            fixedLineCallerCounter  += 1 \n",
    "            if(call[1][call[1].find(\"(\"):call[1].find(\")\")+1] == '(080)'):\n",
    "                fixedLineReceiverCounter += 1\n",
    "print(\"%f percent of calls from fixed lines in Bangalore are calls to other fixed lines in Bangalore.\" %round((fixedLineReceiverCounter/fixedLineCallerCounter)*100,2))"
   ]
  },
  {
   "cell_type": "markdown",
   "metadata": {},
   "source": [
    "### Task 4: Telemarketer prediction"
   ]
  },
  {
   "cell_type": "code",
   "execution_count": null,
   "metadata": {},
   "outputs": [],
   "source": [
    "def getUniquePhoneNumbersFromRecords(records):\n",
    "    phoneNoList = []\n",
    "    \n",
    "    for record in records:\n",
    "        if(record[0] not in phoneNoList):\n",
    "            phoneNoList.append(record[0])\n",
    "        if(record[1] not in phoneNoList):\n",
    "            phoneNoList.append(record[1])\n",
    "    \n",
    "    return phoneNoList\n",
    "\n",
    "telNoList_texts = getUniquePhoneNumbersFromRecords(texts)\n",
    "\n",
    "Callers = [call[0] for call in calls]\n",
    "Receivers = [call[1] for call in calls]\n",
    "\n",
    "CallerList = list(set(Callers))\n",
    "ReceiverList = list(set(Receivers))\n",
    "\n",
    "TelemarketerList = []\n",
    "for number in phone_number_record: \n",
    "    if((number in CallerList) and (number not in ReceiverList) or (number not in telNoList_texts)):\n",
    "        TelemarketerList.append(number)\n",
    "\n",
    "TelemarketerList.sort()\n",
    "\n",
    "print(\"These numbers could be telemarketers: \")\n",
    "for number in TelemarketerList:\n",
    "    print(number)"
   ]
  }
 ],
 "metadata": {
  "kernelspec": {
   "display_name": "Python 3",
   "language": "python",
   "name": "python3"
  },
  "language_info": {
   "codemirror_mode": {
    "name": "ipython",
    "version": 3
   },
   "file_extension": ".py",
   "mimetype": "text/x-python",
   "name": "python",
   "nbconvert_exporter": "python",
   "pygments_lexer": "ipython3",
   "version": "3.7.1"
  }
 },
 "nbformat": 4,
 "nbformat_minor": 2
}
